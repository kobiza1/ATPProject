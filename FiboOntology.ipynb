{
  "nbformat": 4,
  "nbformat_minor": 0,
  "metadata": {
    "colab": {
      "provenance": [],
      "authorship_tag": "ABX9TyOgzR4L4S5oSBS7ShMxXGfz",
      "include_colab_link": true
    },
    "kernelspec": {
      "name": "python3",
      "display_name": "Python 3"
    },
    "language_info": {
      "name": "python"
    }
  },
  "cells": [
    {
      "cell_type": "markdown",
      "metadata": {
        "id": "view-in-github",
        "colab_type": "text"
      },
      "source": [
        "<a href=\"https://colab.research.google.com/github/kobiza1/ATPProject/blob/main/FiboOntology.ipynb\" target=\"_parent\"><img src=\"https://colab.research.google.com/assets/colab-badge.svg\" alt=\"Open In Colab\"/></a>"
      ]
    },
    {
      "cell_type": "code",
      "execution_count": null,
      "metadata": {
        "colab": {
          "base_uri": "https://localhost:8080/"
        },
        "id": "Bqn_BC5eatTk",
        "outputId": "db87a928-8605-4db5-bf52-14882cf67ecb"
      },
      "outputs": [
        {
          "output_type": "stream",
          "name": "stdout",
          "text": [
            "Collecting owlready2\n",
            "  Downloading owlready2-0.47.tar.gz (27.3 MB)\n",
            "\u001b[2K     \u001b[90m━━━━━━━━━━━━━━━━━━━━━━━━━━━━━━━━━━━━━━━━\u001b[0m \u001b[32m27.3/27.3 MB\u001b[0m \u001b[31m58.4 MB/s\u001b[0m eta \u001b[36m0:00:00\u001b[0m\n",
            "\u001b[?25h  Installing build dependencies ... \u001b[?25l\u001b[?25hdone\n",
            "  Getting requirements to build wheel ... \u001b[?25l\u001b[?25hdone\n",
            "  Preparing metadata (pyproject.toml) ... \u001b[?25l\u001b[?25hdone\n",
            "Building wheels for collected packages: owlready2\n",
            "  Building wheel for owlready2 (pyproject.toml) ... \u001b[?25l\u001b[?25hdone\n",
            "  Created wheel for owlready2: filename=owlready2-0.47-cp310-cp310-linux_x86_64.whl size=24075197 sha256=8663f0bc937e0b659c1b5e4b5ed00b1e3ef38bc4dc52c14a45cb36e9536c5474\n",
            "  Stored in directory: /root/.cache/pip/wheels/27/3e/ba/4171c4b10bba9fe1774fbf8fcf794de889e636ce64ad83a533\n",
            "Successfully built owlready2\n",
            "Installing collected packages: owlready2\n",
            "Successfully installed owlready2-0.47\n"
          ]
        }
      ],
      "source": [
        "pip install owlready2\n"
      ]
    },
    {
      "cell_type": "code",
      "source": [
        "from owlready2 import *\n",
        "import os\n",
        "import zipfile\n",
        "\n",
        "\n"
      ],
      "metadata": {
        "id": "Qpx15J5HbfWF"
      },
      "execution_count": 36,
      "outputs": []
    },
    {
      "cell_type": "code",
      "source": [
        "import zipfile\n",
        "\n",
        "# Extract the contents of the ZIP file\n",
        "zip_file_path = '/content/fibo.zip'\n",
        "extracted_folder_path = '/content/fibo'  # Extracted folder path\n",
        "\n",
        "with zipfile.ZipFile(zip_file_path, 'r') as zip_ref:\n",
        "    zip_ref.extractall(extracted_folder_path)\n",
        "\n",
        "# Verify the contents of the extracted folder\n",
        "print(os.listdir(extracted_folder_path))\n",
        "\n"
      ],
      "metadata": {
        "id": "OuiUGo99bVEB",
        "colab": {
          "base_uri": "https://localhost:8080/"
        },
        "outputId": "7295a54e-5302-42bc-cfe4-669021bb5209"
      },
      "execution_count": 37,
      "outputs": [
        {
          "output_type": "stream",
          "name": "stdout",
          "text": [
            "['fibo']\n"
          ]
        }
      ]
    },
    {
      "cell_type": "code",
      "source": [
        "\n",
        "path_to_ontology = \"/content/fibo/fibo/IND/EconomicIndicators/EconomicIndicators.rdf\"\n",
        "print(os.path.abspath(path_to_ontology))\n",
        "# Use the file:// URL to load the local ontology\n",
        "onto = get_ontology(f\"file://{os.path.abspath(path_to_ontology)}\").load()\n",
        "\n",
        "classes = list(onto.classes())\n",
        "print(f\"Ontology loaded with base IRI: {onto.base_iri}\")\n",
        "print(f\"Classes in the ontology: {classes}\")"
      ],
      "metadata": {
        "colab": {
          "base_uri": "https://localhost:8080/"
        },
        "id": "2b1t998CvW_t",
        "outputId": "cd982d7d-974b-4576-a92c-be2320387445"
      },
      "execution_count": 41,
      "outputs": [
        {
          "output_type": "stream",
          "name": "stdout",
          "text": [
            "/content/fibo/fibo/IND/EconomicIndicators/EconomicIndicators.rdf\n",
            "Ontology loaded with base IRI: https://spec.edmcouncil.org/fibo/ontology/IND/EconomicIndicators/EconomicIndicators/\n",
            "Classes in the ontology: [EconomicIndicators.AverageDailyEarnings, EconomicIndicators.AverageEarnings, EconomicIndicators.EconomicIndicator, EconomicIndicators.AverageHourlyEarnings, EconomicIndicators.AverageMonthlyEarnings, EconomicIndicators.AverageWeeklyEarnings, EconomicIndicators.CapitalLaborEnergyMaterialsMultifactorProductivity, EconomicIndicators.Productivity, EconomicIndicators.CapitalLaborMultifactorProductivityValueAdded, EconomicIndicators.CapitalProductivityValueAdded, EconomicIndicators.Civilian, EconomicIndicators.CivilianLaborForce, EconomicIndicators.CivilianNonInstitutionalPopulation, EconomicIndicators.PopulationNotInLaborForce, EconomicIndicators.CivilianLaborForceParticipationRate, EconomicIndicators.CivilianNonInstitutionalPerson, EconomicIndicators.InstitutionalPerson, EconomicIndicators.CombinedStatisticalArea, EconomicIndicators.GovernmentSpecifiedStatisticalArea, EconomicIndicators.ConsumerPriceIndex, EconomicIndicators.FixedBasket, EconomicIndicators.EmploymentPopulationRatio, EconomicIndicators.GrossDomesticProduct, EconomicIndicators.InflationRate, EconomicIndicators.UnemploymentRate, EconomicIndicators.DiscouragedWorkerPopulation, EconomicIndicators.MarginallyAttachedPopulation, EconomicIndicators.EmployedPopulation, EconomicIndicators.EmployedPopulationPartTime, EconomicIndicators.EmployedPopulationPartTimeForEconomicReasons, EconomicIndicators.UnderemployedPopulation, EconomicIndicators.EmployedPopulationPartTimeForNonEconomicReasons, EconomicIndicators.EmployedPopulationTemporarilyNotAtWork, EconomicIndicators.Enterprise, EconomicIndicators.InstitutionalUnit, EconomicIndicators.Establishment, EconomicIndicators.EnterprisePopulation, EconomicIndicators.EstablishmentEmployment, EconomicIndicators.EstablishmentPopulation, EconomicIndicators.FixedBasketConstituent, EconomicIndicators.FixedBasketPopulation, EconomicIndicators.Household, EconomicIndicators.HousingUnit, EconomicIndicators.InputProducerPriceIndex, EconomicIndicators.ProducerPriceIndex, EconomicIndicators.LaborProductivityGrossOutput, EconomicIndicators.LaborProductivityValueAdded, EconomicIndicators.MetropolitanStatisticalArea, EconomicIndicators.MicropolitanStatisticalArea, EconomicIndicators.MilitaryPerson, EconomicIndicators.OutputProducerPriceIndex, EconomicIndicators.PersonalConsumptionExpenditures, EconomicIndicators.StatisticalInformationPublisher, EconomicIndicators.UltimateConsumer, EconomicIndicators.UnderemployedPopulationWithRespectToOccupation, EconomicIndicators.UnderutilizedPopulation, EconomicIndicators.UnemployedPopulation, EconomicIndicators.ValueAddedProducerPriceIndex]\n"
          ]
        }
      ]
    },
    {
      "cell_type": "code",
      "source": [
        "for cls in classes:\n",
        "  print(f\"class name: {cls.name}.\")\n",
        "  if hasattr(cls, 'label') and cls.label:\n",
        "    print(f\"Label: {cls.label[0]}.\")\n"
      ],
      "metadata": {
        "colab": {
          "base_uri": "https://localhost:8080/"
        },
        "collapsed": true,
        "id": "97J7ZDtCvgIZ",
        "outputId": "7858c7a3-1591-482a-858f-13907cf76267"
      },
      "execution_count": 42,
      "outputs": [
        {
          "output_type": "stream",
          "name": "stdout",
          "text": [
            "class name: AverageDailyEarnings.\n",
            "Label: average daily earnings.\n",
            "class name: AverageEarnings.\n",
            "Label: average earnings.\n",
            "class name: EconomicIndicator.\n",
            "Label: economic indicator.\n",
            "class name: AverageHourlyEarnings.\n",
            "Label: average hourly earnings.\n",
            "class name: AverageMonthlyEarnings.\n",
            "Label: average monthly earnings.\n",
            "class name: AverageWeeklyEarnings.\n",
            "Label: average weekly earnings.\n",
            "class name: CapitalLaborEnergyMaterialsMultifactorProductivity.\n",
            "Label: capital-labor-energy-materials multifactor productivity.\n",
            "class name: Productivity.\n",
            "Label: productivity.\n",
            "class name: CapitalLaborMultifactorProductivityValueAdded.\n",
            "Label: capital-labor multifactor productivity (MFP), based on value added.\n",
            "class name: CapitalProductivityValueAdded.\n",
            "Label: capital productivity, based on value added.\n",
            "class name: Civilian.\n",
            "Label: civilian.\n",
            "class name: CivilianLaborForce.\n",
            "Label: civilian labor force.\n",
            "class name: CivilianNonInstitutionalPopulation.\n",
            "Label: civilian non-institutional population.\n",
            "class name: PopulationNotInLaborForce.\n",
            "Label: population not in the labor force.\n",
            "class name: CivilianLaborForceParticipationRate.\n",
            "Label: civilian labor force participation rate.\n",
            "class name: CivilianNonInstitutionalPerson.\n",
            "Label: civilian non-institutional person.\n",
            "class name: InstitutionalPerson.\n",
            "Label: institutional person.\n",
            "class name: CombinedStatisticalArea.\n",
            "Label: combined statistical area.\n",
            "class name: GovernmentSpecifiedStatisticalArea.\n",
            "Label: government-specified statistical area.\n",
            "class name: ConsumerPriceIndex.\n",
            "Label: consumer price index.\n",
            "class name: FixedBasket.\n",
            "Label: fixed basket.\n",
            "class name: EmploymentPopulationRatio.\n",
            "Label: employment-population ratio.\n",
            "class name: GrossDomesticProduct.\n",
            "Label: gross domestic product.\n",
            "class name: InflationRate.\n",
            "Label: inflation rate.\n",
            "class name: UnemploymentRate.\n",
            "Label: unemployment rate.\n",
            "class name: DiscouragedWorkerPopulation.\n",
            "Label: discouraged worker population.\n",
            "class name: MarginallyAttachedPopulation.\n",
            "Label: marginally attached population.\n",
            "class name: EmployedPopulation.\n",
            "Label: employed population.\n",
            "class name: EmployedPopulationPartTime.\n",
            "Label: employed population part-time.\n",
            "class name: EmployedPopulationPartTimeForEconomicReasons.\n",
            "Label: employed population part-time for economic reasons.\n",
            "class name: UnderemployedPopulation.\n",
            "Label: underemployed population.\n",
            "class name: EmployedPopulationPartTimeForNonEconomicReasons.\n",
            "Label: employed population part-time for non-economic reasons.\n",
            "class name: EmployedPopulationTemporarilyNotAtWork.\n",
            "Label: employed population temporarily not at work.\n",
            "class name: Enterprise.\n",
            "Label: enterprise.\n",
            "class name: InstitutionalUnit.\n",
            "Label: institutional unit.\n",
            "class name: Establishment.\n",
            "Label: establishment.\n",
            "class name: EnterprisePopulation.\n",
            "Label: enterprise population.\n",
            "class name: EstablishmentEmployment.\n",
            "Label: establishment employment.\n",
            "class name: EstablishmentPopulation.\n",
            "Label: establishment population.\n",
            "class name: FixedBasketConstituent.\n",
            "Label: fixed basket constituent.\n",
            "class name: FixedBasketPopulation.\n",
            "Label: fixed basket population.\n",
            "class name: Household.\n",
            "Label: household.\n",
            "class name: HousingUnit.\n",
            "Label: housing unit.\n",
            "class name: InputProducerPriceIndex.\n",
            "Label: input producer price index.\n",
            "class name: ProducerPriceIndex.\n",
            "Label: producer price index.\n",
            "class name: LaborProductivityGrossOutput.\n",
            "Label: labor productivity, based on gross output.\n",
            "class name: LaborProductivityValueAdded.\n",
            "Label: labor productivity, based on value added.\n",
            "class name: MetropolitanStatisticalArea.\n",
            "Label: metropolitan statistical area.\n",
            "class name: MicropolitanStatisticalArea.\n",
            "Label: micropolitan statistical area.\n",
            "class name: MilitaryPerson.\n",
            "Label: military person.\n",
            "class name: OutputProducerPriceIndex.\n",
            "Label: output producer price index.\n",
            "class name: PersonalConsumptionExpenditures.\n",
            "Label: personal consumption expenditures.\n",
            "class name: StatisticalInformationPublisher.\n",
            "Label: statistical information publisher.\n",
            "class name: UltimateConsumer.\n",
            "Label: ultimate consumer.\n",
            "class name: UnderemployedPopulationWithRespectToOccupation.\n",
            "Label: underemployed population with respect to occupation.\n",
            "class name: UnderutilizedPopulation.\n",
            "Label: underutilized population.\n",
            "class name: UnemployedPopulation.\n",
            "Label: unemployed population.\n",
            "class name: ValueAddedProducerPriceIndex.\n",
            "Label: value-added producer price index.\n"
          ]
        }
      ]
    }
  ]
}